{
 "cells": [
  {
   "cell_type": "code",
   "execution_count": null,
   "id": "9e3a23f3",
   "metadata": {},
   "outputs": [],
   "source": [
    "import logging\n",
    "from langchain_ollama import OllamaLLM\n",
    "\n",
    "logging.basicConfig(level=logging.INFO, format=\"%(asctime)s - %(message)s\")\n",
    "\n",
    "llm = OllamaLLM(\n",
    "    model=\"llama3.1:8b\",\n",
    "    temperature=0.7,\n",
    "    max_tokens=2000\n",
    ")"
   ]
  },
  {
   "cell_type": "code",
   "execution_count": null,
   "id": "4265155a",
   "metadata": {},
   "outputs": [],
   "source": [
    "from langchain import PromptTemplate\n",
    "prompt_template = PromptTemplate(input_variables=[],\n",
    "    template=\"\"\"\n",
    "You are an expert college-level Computer Science educator. Generate ONE theoretical Computer Science question suitable for a written exam.\n",
    "from the subject Operating System\n",
    "Guidelines:\n",
    "- The question must be theoretical, not programming-based.\n",
    "- Topics may include: automata, complexity theory, data structures, algorithms, databases, computation theory.\n",
    "- The rubric must include 3 to 5 independently assessable criteria.\n",
    "- Ideal answer must fully satisfy all rubric points.\n",
    "- - Do NOT include explanations or markdown. Do NOT escape underscores or special characters. Return clean, plain JSON.\n",
    "- -The json must be formated properly try avoiding /n those things\n",
    "\n",
    "Return the result in **valid JSON format** with the following structure:\n",
    "{{\n",
    "  \"question\": \"...\",\n",
    "  \"ideal_answer\": \"...\", \n",
    "  \"rubric\": \"...\"\n",
    "}}\n",
    "\"\"\",)\n"
   ]
  },
  {
   "cell_type": "code",
   "execution_count": 40,
   "id": "037ef840",
   "metadata": {},
   "outputs": [],
   "source": [
    "from langchain_core.output_parsers import StrOutputParser\n",
    "chain=prompt_template|llm|StrOutputParser()"
   ]
  },
  {
   "cell_type": "code",
   "execution_count": 41,
   "id": "86a316db",
   "metadata": {},
   "outputs": [
    {
     "name": "stderr",
     "output_type": "stream",
     "text": [
      "2025-06-16 18:06:36,138 - HTTP Request: POST http://127.0.0.1:11434/api/generate \"HTTP/1.1 200 OK\"\n",
      "2025-06-16 18:07:15,932 - HTTP Request: POST http://127.0.0.1:11434/api/generate \"HTTP/1.1 200 OK\"\n"
     ]
    },
    {
     "name": "stdout",
     "output_type": "stream",
     "text": [
      "0th question generated\n",
      "1th question generated\n"
     ]
    },
    {
     "name": "stderr",
     "output_type": "stream",
     "text": [
      "2025-06-16 18:07:57,660 - HTTP Request: POST http://127.0.0.1:11434/api/generate \"HTTP/1.1 200 OK\"\n"
     ]
    },
    {
     "name": "stdout",
     "output_type": "stream",
     "text": [
      "2th question generated\n"
     ]
    },
    {
     "name": "stderr",
     "output_type": "stream",
     "text": [
      "2025-06-16 18:08:31,526 - HTTP Request: POST http://127.0.0.1:11434/api/generate \"HTTP/1.1 200 OK\"\n",
      "2025-06-16 18:09:42,893 - HTTP Request: POST http://127.0.0.1:11434/api/generate \"HTTP/1.1 200 OK\"\n"
     ]
    },
    {
     "name": "stdout",
     "output_type": "stream",
     "text": [
      "3th question generated\n"
     ]
    },
    {
     "name": "stderr",
     "output_type": "stream",
     "text": [
      "2025-06-16 18:10:14,570 - HTTP Request: POST http://127.0.0.1:11434/api/generate \"HTTP/1.1 200 OK\"\n"
     ]
    },
    {
     "name": "stdout",
     "output_type": "stream",
     "text": [
      "4th question generated\n"
     ]
    },
    {
     "name": "stderr",
     "output_type": "stream",
     "text": [
      "2025-06-16 18:10:43,484 - HTTP Request: POST http://127.0.0.1:11434/api/generate \"HTTP/1.1 200 OK\"\n"
     ]
    },
    {
     "name": "stdout",
     "output_type": "stream",
     "text": [
      "5th question generated\n"
     ]
    },
    {
     "name": "stderr",
     "output_type": "stream",
     "text": [
      "2025-06-16 18:11:13,779 - HTTP Request: POST http://127.0.0.1:11434/api/generate \"HTTP/1.1 200 OK\"\n"
     ]
    },
    {
     "name": "stdout",
     "output_type": "stream",
     "text": [
      "6th question generated\n"
     ]
    },
    {
     "name": "stderr",
     "output_type": "stream",
     "text": [
      "2025-06-16 18:11:42,105 - HTTP Request: POST http://127.0.0.1:11434/api/generate \"HTTP/1.1 200 OK\"\n"
     ]
    },
    {
     "name": "stdout",
     "output_type": "stream",
     "text": [
      "7th question generated\n"
     ]
    },
    {
     "name": "stderr",
     "output_type": "stream",
     "text": [
      "2025-06-16 18:12:06,544 - HTTP Request: POST http://127.0.0.1:11434/api/generate \"HTTP/1.1 200 OK\"\n"
     ]
    },
    {
     "name": "stdout",
     "output_type": "stream",
     "text": [
      "8th question generated\n",
      "9th question generated\n"
     ]
    },
    {
     "data": {
      "text/plain": [
       "['{\\n  \"question\": \"Consider a system that manages access to shared resources using a combination of process scheduling and memory management techniques. Suppose we have two processes, P1 and P2, that require exclusive access to the same resource. Process P1 has higher priority and needs to run for a maximum of 10 time units. Process P2 is a background task that requires 5 time units to complete. If the system uses a First-Come-First-Served (FCFS) scheduling algorithm with a shortest job first policy, what is the maximum time it would take for both processes to complete their tasks without violating any synchronization constraints?\",\\n  \"ideal_answer\": \"The system will run P1 for 10 time units and then switch to P2. Since P2 has higher priority due to its shorter duration, it will be scheduled immediately after P1. Thus, the maximum time required is 15 time units.\",\\n  \"rubric\":\\n    [\\n      {\\n        \"criteria\": \"Time complexity analysis\",\\n        \"description\": \"Analyze the time complexity of the scheduling algorithm and explain how it affects the completion time of both processes.\",\\n        \"marks\": \"3\"\\n      },\\n      {\\n        \"criteria\": \"Process synchronization\",\\n        \"description\": \"Explain how the system ensures that only one process accesses the shared resource at a time, even in the presence of multiple tasks with different priorities.\",\\n        \"marks\": \"2\"\\n      },\\n      {\\n        \"criteria\": \"Resource allocation\",\\n        \"description\": \"Describe the scheduling algorithm used and explain how it allocates resources to processes P1 and P2 based on their respective priority levels.\",\\n        \"marks\": \"4\"\\n      }\\n    ]\\n}',\n",
       " '{\\n  \"question\": \"Consider a system that uses a preemptive scheduling algorithm to manage multiple processes. Each process has a fixed priority and a set of required resources. The system must ensure that each process completes its execution within a specified time limit, known as the \\'deadline\\'. If a higher-priority process requires a resource currently held by a lower-priority process, the system should either allocate the resource to the higher-priority process or block it until the resource becomes available.\\n\\n    Assuming a scheduling strategy that prioritizes deadline-driven allocation of resources, describe the time complexity of the algorithm used to schedule processes and allocate resources in real-time. Analyze the implications of using this approach on system performance and resource utilization.\",\\n  \"ideal_answer\": \"The ideal answer would involve an explanation of Earliest Deadline First (EDF) scheduling, which is a popular deadline-driven allocation strategy.\\n\\n    Time complexity analysis would focus on the comparison-based sorting or priority queue operations used to schedule processes based on their deadlines. In O(n log n), where n represents the number of processes in the system at any given time.\\n\\n    Implications of this approach would include reduced overheads due to efficient resource allocation, but potential risks such as starvation or system crashes if not properly implemented and managed.\",\\n  \"rubric\": [\\n    {\\n      \"id\": \"1\",\\n      \"description\": \"Explanation of deadline-driven scheduling strategy\",\\n      \"weightage\": \"30\"\\n    },\\n    {\\n      \"id\": \"2\",\\n      \"description\": \"Time complexity analysis of the algorithm used\",\\n      \"weightage\": \"40\"\\n    },\\n    {\\n      \"id\": \"3\",\\n      \"description\": \"Implications on system performance and resource utilization\",\\n      \"weightage\": \"30\"\\n    }\\n  ]\\n}',\n",
       " '```\\n{\\n  \"question\": \"Consider a computer system that uses a hierarchical memory management approach. Analyze and discuss the trade-offs between the two-level page table organization and the inverted page table organization in terms of memory usage, access time, and complexity.\",\\n  \"ideal_answer\": \"The ideal answer should discuss both approaches, highlighting their respective strengths and weaknesses. The discussion should cover the following points:\\n* Memory usage: Explain how each approach affects memory utilization.\\n* Access time: Compare the two approaches in terms of page table lookup efficiency.\\n* Complexity: Discuss the trade-offs between hardware and software complexity for each organization.\\n\\nThe answer should demonstrate a clear understanding of the underlying concepts and provide relevant examples to support its claims.\",\\n  \"rubric\": {\\n    \"Criterion 1: Memory Usage (20 points)\\n* Does the answer accurately describe the memory usage implications of both approaches?\\n* Are relevant calculations or formulas provided to support the claims?\\n\\n Criterion 2: Access Time (25 points)\\n* Does the answer correctly compare the page table lookup efficiency of both approaches?\\n* Are examples used to illustrate any differences in access time?\\n\\n Criterion 3: Complexity (20 points)\\n* Does the answer provide a balanced discussion of hardware and software complexity for each organization?\\n* Are relevant trade-offs and considerations discussed?\\n\\n Criterion 4: Conclusion (15 points)\\n* Does the answer clearly summarize its main findings and conclusions?\\n* Is the discussion well-organized and easy to follow?\"\\n  }\\n}\\n```',\n",
       " '{\\n\"question\": \"Consider a multi-level page table implementation for a virtual memory system. Suppose each process has an average of 10 page requests per second, and each page request takes approximately 100 nanoseconds to service. If the memory hierarchy consists of three levels, with level 1 having 64 entries, level 2 having 1024 entries, and level 3 being a large cache, estimate the total time wasted due to page faults for 100 processes running concurrently.\",\\n\"ideal_answer\": \"To solve this problem, we need to calculate the average number of page misses per second and multiply it by the time taken to service a page miss. Since each process has an average of 10 page requests per second, the total number of page requests per second is 1000. Assuming that the memory hierarchy is fully associative, the probability of a page fault at level i can be calculated using the formula: P_fault_i = (1 - P_hit_i) * P_access_i, where P_hit_i is the hit ratio at level i and P_access_i is the access probability at level i.\\n\\nUsing the given data, we can calculate the hit ratios as follows:\\n\\nLevel 1: P_hit_1 = 64 / 1024 = 0.0625\\nLevel 2: P_hit_2 = (1 - P_hit_1) * (1024 / 1048576) = 0.998\\n\\nSince level 3 is a large cache, we assume that the hit ratio at level 3 is approximately 1.\\n\\nNow, we can calculate the average number of page misses per second as follows:\\n\\nP_miss_1 = P_fault_1 * (1000 / 10) = 0.0625\\nP_miss_2 = P_fault_2 * (1000 / 10) = 0.0015\\n\\nThe total time wasted due to page faults is then calculated by multiplying the average number of page misses per second by the time taken to service a page miss:\\n\\nTotal time wasted = (P_miss_1 + P_miss_2) * 100 ns = 6.25 us\",\\n\"rubric\":\\n{\\n\"C1: Understanding of Page Table Implementation (20 points)\\n- Correctly describes the multi-level page table implementation\\n- Accurately calculates hit ratios at each level\\n- Provides a clear explanation of the probability of a page fault\\n\\nC2: Calculation of Average Number of Page Misses per Second (30 points)\\n- Correctly calculates P_miss_1 and P_miss_2 using the given data\\n- Properly applies the formula for calculating P_fault_i\\n\\nC3: Estimation of Total Time Wasted due to Page Faults (30 points)\\n- Accurately multiplies the average number of page misses per second by the time taken to service a page miss\\n- Provides a clear explanation of the calculation\\n\\nC4: Presentation and Clarity (20 points)\\n- Clearly presents the calculations and results\\n- Uses proper mathematical notation and units\"\\n}',\n",
       " '{\\n  \"question\": \"Consider a paging system where pages are of fixed size and each process has a unique memory footprint. Evaluate the trade-off between page replacement algorithms: Optimal (OPT), First-In-First-Out (FIFO), and Least Recently Used (LRU). Assume that the number of frames is limited to k.\",\\n  \"ideal_answer\": \"The optimal page replacement algorithm, OPT, achieves an average resident set size of O(n) in a multi-frame environment. However, its implementation requires knowledge of future reference strings, making it impractical for real-world scenarios.\\\\n\\\\nFIFO, on the other hand, is simple to implement but can lead to poor performance due to its lack of consideration for page usage patterns. Its average resident set size is O(n) as well.\\\\n\\\\nLRU strikes a balance between OPT and FIFO, achieving an average resident set size of O(n/k) in a multi-frame environment. This is because LRU takes into account the recency of page references, making it more efficient than FIFO.\",\\n  \"rubric\": {\\n    \"1. Understanding of Page Replacement Algorithms (10 points):\",\\n    \"- Clearly describes the characteristics and performance of OPT, FIFO, and LRU algorithms\",\\n    \"- Accurately compares the trade-offs between these algorithms\",\\n    \"- Demonstrates understanding of how page replacement affects system performance\"\\n  }\\n}',\n",
       " '{\\n  \"question\": \"Consider a multi-level page table organization for virtual memory management. In this scheme, each page table entry (PTE) contains a valid/invalid bit and a physical frame number. Suppose we have a system with 4096 pages and 1024 frames. What is the minimum height of the page table tree that can accommodate all possible PTEs, assuming each node in the tree represents a single page table?\",\\n  \\n  \"ideal_answer\": \"The ideal answer should include a clear explanation of the minimum height required to store all possible PTEs. It should also provide mathematical justification for the calculated value.\",\\n  \\n  \"rubric\": {\\n    \"Criteria 1: Correctness (20 points)\", \\n    \"Does the answer correctly calculate the minimum height of the page table tree? Is it based on the correct understanding of the problem statement?\",\\n    \\n    \"Criteria 2: Mathematical Justification (30 points)\",\\n    \"Is the mathematical justification provided clear and concise? Does it accurately explain why the calculated value is the minimum height required?\",\\n    \\n    \"Criteria 3: Practical Implications (20 points)\", \\n    \"Does the answer consider any practical implications of having such a deep page table tree? Are there any potential performance issues that could arise from this organization?\"\\n  }\\n}',\n",
       " '{\\n  \"question\": \"Consider a memory allocation scheme for a computer system that uses a combination of free list and buddy algorithms to manage memory blocks. Analyze the time complexity of finding a contiguous block of size n in this memory allocation scheme, assuming the memory is divided into fixed-size chunks (block size = b).\",\\n  \"ideal_answer\": \"The time complexity of finding a contiguous block of size n in the given memory allocation scheme can be broken down as follows: \\n1. Finding an available free list chunk of size ≥ n (using a hash table) - O(1)\\n2. Splitting or merging chunks to obtain a contiguous block of exact size n - O(log b), where log is taken with base 2, because we need to traverse the binary tree-like structure created by buddy algorithm.\\nTherefore, the overall time complexity for finding a contiguous block of size n is O(log b) + O(1). However, assuming that the hash table lookup dominates, the overall time complexity can be approximated as O(1) in practice.\",\\n  \"rubric\": {\\n    \"i\": \"Understanding of memory allocation schemes\",\\n    \"ii\": \"Analysis of time complexity for finding a contiguous block\",\\n    \"iii\": \"Correct application of data structures and algorithms to solve the problem\"\\n  }\\n}',\n",
       " '{\\n  \"question\": \"Consider a memory management system that uses a hybrid of contiguous allocation and paging. In this system, each process is divided into fixed-size blocks, called \\'chunks\\', which are allocated from a contiguous block of free memory. However, when the available contiguous free memory is exhausted, the system falls back to using the paging mechanism. What is the time complexity of the following operations in this system: \\n\\nA) Allocation of a new chunk\\nB) Deallocation of an existing chunk\\nC) Page fault handling (i.e., what happens when a process attempts to access memory that has been paged out)\\n\\nAssume that the number of chunks, processes, and pages are all O(n), where n is the total amount of physical memory available. Provide your answer in Big O notation.\",\\n  \"ideal_answer\": \"A) O(1) B) O(1) C) O(log n)\",\\n  \"rubric\": {\\n    \"criteria_1\": \"Time complexity of chunk allocation (10 points):\",\\n    \"criteria_2\": \"Time complexity of chunk deallocation (15 points):\",\\n    \"criteria_3\": \"Time complexity of page fault handling (20 points):\",\\n    \"criteria_4\": \"Justification and explanation of time complexities (30 points):\"\\n  }\\n}',\n",
       " '{\\n  \"question\": \"Consider a disk scheduling algorithm that uses a combination of First-Come-First-Served (FCFS) and Shortest-Seek-Time-First (SSTF) algorithms. If the system has n requests to access m tracks on a magnetic disk, what is the worst-case time complexity of this hybrid algorithm in terms of n and m?\",\\n  \"ideal_answer\": \"O(nm)\",\\n  \"rubric\":\\n    {\\n      \"Understanding of Disk Scheduling Algorithms (10 points)\": \"The student should demonstrate an understanding of FCFS and SSTF algorithms and how they can be combined.\",\\n      \"Analysis of Time Complexity (20 points)\": \"The student should provide a clear analysis of the time complexity, including any assumptions or simplifications made.\",\\n      \"Expression of Worst-Case Time Complexity (30 points)\": \"The student should express the worst-case time complexity in terms of n and m using Big O notation.\",\\n      \"Justification of Answer (20 points)\": \"The student should provide a clear justification for their answer, including any relevant mathematical derivations or references to relevant literature.\"\\n    }\\n}',\n",
       " '{\\n  \"question\": \"Consider a modern Operating System that utilizes a combination of paging and segmentation to manage memory. Analyze the trade-offs between these two memory management techniques in terms of efficiency, flexibility, and security. Explain how the OS can balance these competing demands to provide optimal performance.\",\\n  \"ideal_answer\": \"Paging is more efficient as it uses contiguous blocks of memory but may lead to fragmentation issues. Segmentation provides better memory isolation and protection but can result in slower access times due to non-contiguous memory allocation. A balanced approach could be taken where paging is used for small processes and segmentation for large ones, or using a combination of both with appropriate page table management.\",\\n  \"rubric\": [\\n    {\\n      \"criteria\": \"Efficiency Analysis\",\\n      \"weightage\": 30,\\n      \"description\": \"The answer must provide a thorough analysis of the efficiency of paging and segmentation techniques in terms of memory usage, access times, and system overhead.\"\\n    },\\n    {\\n      \"criteria\": \"Flexibility and Security Trade-Offs\",\\n      \"weightage\": 25,\\n      \"description\": \"The answer should clearly explain how paging and segmentation trade off in terms of flexibility and security, including issues such as fragmentation, memory protection, and isolation.\"\\n    },\\n    {\\n      \"criteria\": \"Optimal Performance Strategies\",\\n      \"weightage\": 45,\\n      \"description\": \"The answer must provide a well-reasoned explanation for how the OS can balance the competing demands of paging and segmentation to achieve optimal performance in various scenarios.\"\\n    }\\n  ]\\n}']"
      ]
     },
     "execution_count": 41,
     "metadata": {},
     "output_type": "execute_result"
    }
   ],
   "source": [
    "list=[]\n",
    "for i in range(10):\n",
    "    list.append(chain.invoke({}))\n",
    "    print(f\"{i}th question generated\")\n",
    "list"
   ]
  },
  {
   "cell_type": "code",
   "execution_count": null,
   "id": "4793b1d8",
   "metadata": {},
   "outputs": [
    {
     "name": "stdout",
     "output_type": "stream",
     "text": [
      "\n",
      "✅ All entries parsed successfully without any skips.\n",
      "💾 JSON saved to: C:\\Users\\dhili\\Desktop\\SRIP\\testing\\qa_1_dataset.json\n"
     ]
    }
   ],
   "source": [
    "import json\n",
    "import os\n",
    "\n",
    "# Assume 'list' is defined here (either the original problematic one or the corrected one)\n",
    "\n",
    "parsed_data = []\n",
    "skipped_entries_count = 0\n",
    "\n",
    "for i, entry_str in enumerate(list):\n",
    "    try:\n",
    "        parsed_data.append(json.loads(entry_str))\n",
    "    except json.JSONDecodeError as e:\n",
    "        print(f\"⚠️ **Warning:** Skipping malformed JSON entry at index {i}.\")\n",
    "        print(f\"Error: {e}\")\n",
    "        # Optionally, you can print the problematic string for debugging, but it might be very long\n",
    "        # print(f\"Problematic string: {repr(entry_str[:200])}...\") # Print first 200 chars\n",
    "        skipped_entries_count += 1\n",
    "    except Exception as e:\n",
    "        # Catch any other unexpected errors during processing\n",
    "        print(f\"⛔ An unexpected error occurred at entry index {i}: {e}\")\n",
    "        skipped_entries_count += 1\n",
    "\n",
    "if skipped_entries_count > 0:\n",
    "    print(f\"\\nSummary: {skipped_entries_count} malformed JSON entries were skipped.\")\n",
    "    print(\"The final output JSON will not contain these entries.\")\n",
    "else:\n",
    "    print(\"\\n✅ All entries parsed successfully without any skips.\")\n",
    "\n",
    "output_path = r\"C:\\Users\\dhili\\Desktop\\SRIP\\testing\\qa_10_prompt modified_dataset.json\"\n",
    "\n",
    "os.makedirs(os.path.dirname(output_path), exist_ok=True)\n",
    "\n",
    "with open(output_path, \"w\", encoding=\"utf-8\") as f:\n",
    "    json.dump(parsed_data, f, indent=4, ensure_ascii=False)\n",
    "\n",
    "print(f\"💾 JSON saved to: {output_path}\")"
   ]
  },
  {
   "cell_type": "code",
   "execution_count": 29,
   "id": "4ae42158",
   "metadata": {},
   "outputs": [
    {
     "data": {
      "text/plain": [
       "['{\\n  \"question\": \"Consider a computer system with a single CPU and two processes, A and B, each having the same priority. Process A is in the running state, while process B is blocked waiting for I/O completion. The operating system uses a Round-Robin scheduling algorithm with a time quantum of 10 units. If the current time is 25 units, what is the expected behavior of the system regarding context switching and process scheduling?\",\\n  \"ideal_answer\": \"The operating system will perform a context switch to schedule process B into the running state after the completion of its I/O operation. However, due to the Round-Robin algorithm\\'s fixed time quantum, it is likely that process A will still be executed for another 5 units before giving up control and allowing process B to execute.\",\\n  \"rubric\": [\\n    {\\n      \"criteria\": \"Correct identification of context switching in a preemptive scheduling scenario\",\\n      \"weightage\": 30,\\n      \"description\": \"Does the student correctly identify that a context switch will occur when process B is scheduled into the running state?\"\\n    },\\n    {\\n      \"criteria\": \"Understanding of the implications of Round-Robin scheduling with a fixed time quantum\",\\n      \"weightage\": 40,\\n      \"description\": \"Does the student demonstrate an understanding of how the Round-Robin algorithm\\'s time quantum affects the execution order and context switching in this scenario?\"\\n    },\\n    {\\n      \"criteria\": \"Clear explanation of expected behavior regarding process scheduling\",\\n      \"weightage\": 30,\\n      \"description\": \"Is the student\\'s answer clear, concise, and accurately describes the expected behavior of the system under the given conditions?\"\\n    }\\n  ]\\n}',\n",
       " '{\\n  \"question\": \"Consider a multi-level page table implementation in a virtual memory system. If the number of levels is L and each level has N entries, what is the maximum amount of memory required to store the page tables? Assume that each entry requires 4 bytes.\",\\n  \"ideal_answer\": \"The maximum amount of memory required to store the page tables is (L + 1) * N * 4 bytes. This is because each level of the page table has N entries, and there are L levels, so we need to account for all the levels in the calculation. Additionally, we need to include the root directory which requires an extra level.\",\\n  \"rubric\": [\\n    {\\n      \"id\": \"1\",\\n      \"description\": \"The student correctly identifies the formula for calculating the maximum amount of memory required to store the page tables.\"\\n    },\\n    {\\n      \"id\": \"2\",\\n      \"description\": \"The student provides a clear and concise explanation of why the formula accounts for all levels in the page table, including the root directory.\"\\n    },\\n    {\\n      \"id\": \"3\",\\n      \"description\": \"The student correctly applies the given assumptions (e.g. each entry requires 4 bytes) to derive the formula.\"\\n    }\\n  ]\\n}',\n",
       " '{\\n  \"question\": \"Consider a system with multiple processes competing for shared resources. Describe the key characteristics of a starvation-free scheduling algorithm and explain how it can be achieved using process isolation mechanisms.\",\\n  \"ideal_answer\": \"A starvation-free scheduling algorithm prioritizes tasks based on their resource requirements, ensuring that each task receives sufficient resources to complete within a reasonable time frame. This is achieved through dynamic priority allocation, where the priority of each task is adjusted in real-time based on its current resource usage and estimated completion time. Process isolation mechanisms, such as memory protection and virtualization, prevent tasks from interfering with one another\\'s resource allocation, thereby preventing starvation.\",\\n  \"rubric\": [\\n    {\\n      \"criteria\": \"Clearly describes the key characteristics of a starvation-free scheduling algorithm\",\\n      \"weighting\": 30,\\n      \"description\": \"The answer should accurately identify the key characteristics of a starvation-free scheduling algorithm and explain how it prevents starvation.\"\\n    },\\n    {\\n      \"criteria\": \"Explains the role of process isolation mechanisms in preventing starvation\",\\n      \"weighting\": 25,\\n      \"description\": \"The answer should describe how process isolation mechanisms, such as memory protection and virtualization, prevent tasks from interfering with one another\\'s resource allocation and thereby prevent starvation.\"\\n    },\\n    {\\n      \"criteria\": \"Provides a clear example or scenario to illustrate the concept\",\\n      \"weighting\": 20,\\n      \"description\": \"The answer should provide a concrete example or scenario that demonstrates how a starvation-free scheduling algorithm can be implemented using process isolation mechanisms.\"\\n    },\\n    {\\n      \"criteria\": \"Uses technical vocabulary and concepts accurately\",\\n      \"weighting\": 25,\\n      \"description\": \"The answer should demonstrate a clear understanding of relevant technical terms and concepts, such as dynamic priority allocation, memory protection, and virtualization.\"\\n    }\\n  ]\\n}',\n",
       " '{\\n  \"question\": \"Consider a system with two processes, P1 and P2, that share the same resource R. The scheduling policy is First-Come-First-Served (FCFS). Process P1 arrives at time t=0 and requests access to resource R for a duration of 3 time units. At time t=1, process P2 arrives and also requests access to resource R for a duration of 4 time units. If the system is currently idle when P2 arrives, what is the maximum length of time that P2 will have to wait before being granted access to resource R?\",\\n  \"ideal_answer\": \"3\",\\n  \"rubric\": [\\n    {\\n      \"id\": \"1\",\\n      \"criteria\": \"The student must identify that P1 has already requested and been allocated the resource for a duration of 3 time units.\",\\n      \"marks\": \"2\"\\n    },\\n    {\\n      \"id\": \"2\",\\n      \"criteria\": \"The student must correctly apply the FCFS scheduling policy to determine when P2 will be granted access to the resource.\",\\n      \"marks\": \"4\"\\n    },\\n    {\\n      \"id\": \"3\",\\n      \"criteria\": \"The student must calculate and provide the maximum length of time that P2 will have to wait before being granted access to resource R.\",\\n      \"marks\": \"6\"\\n    }\\n  ]\\n}',\n",
       " '{\\n  \"question\": \"Consider a file system with multiple processes accessing shared files. Describe the trade-offs between using a First-Come-First-Served (FCFS) disk scheduling algorithm and a Scan (SST) disk scheduling algorithm in terms of starvation prevention and throughput.\",\\n  \"ideal_answer\": \"In FCFS, starvation prevention is ensured as each process gets the disk after completion of its previous access, but this leads to low throughput due to sequential accesses. In SST, high throughput is achieved by scanning the disk for contiguous blocks, but there is a risk of starvation if one process consistently accesses non-contiguous blocks.\",\\n  \"rubric\": [\\n    {\"criteria\": \"Explain the FCFS algorithm\\'s approach to disk scheduling.\", \"max_points\": 3},\\n    {\"criteria\": \"Describe the SST algorithm\\'s approach to disk scheduling and its advantages/disadvantages.\", \"max_points\": 4},\\n    {\"criteria\": \"Compare and contrast the two algorithms in terms of starvation prevention and throughput, providing a clear explanation of trade-offs.\", \"max_points\": 5},\\n    {\"criteria\": \"Provide relevant examples or scenarios to support their analysis.\", \"max_points\": 3}\\n  ]\\n}',\n",
       " '{\\n  \"question\": \"Consider a system with n processes competing for the same resource. Each process has a priority level (high or low). The operating system uses a First-Come-First-Served (FCFS) scheduling policy with a twist: if two high-priority processes arrive at the same time, they are both granted access to the resource simultaneously. However, if a high-priority process arrives after a low-priority process, it is forced to wait until the low-priority process releases the resource. What is the time complexity of this scheduling algorithm in terms of n, and how does it relate to the traditional FCFS policy?\",\\n  \"ideal_answer\": {\\n    \"time_complexity\": \"The time complexity of this modified FCFS policy remains O(n) because each process still waits for at most n-1 other processes to finish before accessing the resource.\",\\n    \"relation_to_traditional_policy\": \"This scheduling algorithm is equivalent to a priority-based variation of traditional FCFS. While it introduces additional complexities due to high-priority process interactions, its time complexity remains linear with respect to the number of processes.\"\\n  },\\n  \"rubric\": {\\n    \"1. Time Complexity Analysis (10 points):\"\\n      \"- Clearly defines the problem and identifies the scheduling policy used.\",\\n      \"- Provides a concise and accurate explanation of the algorithm\\'s time complexity in terms of n.\",\\n    \"2. Scheduling Policy Comparison (15 points):\"\\n      \"- Effectively explains the modification to traditional FCFS and its implications on process interaction.\",\\n      \"- Correctly establishes the relationship between this modified policy and traditional FCFS, including any differences or equivalencies.\",\\n    \"3. Answer Clarity and Organization (10 points):\"\\n      \"- Presents a clear and organized response with proper use of technical terminology.\",\\n      \"- Ensures that all relevant information is accurately and concisely conveyed.\"\\n  }\\n}',\n",
       " '{\\n  \"question\": \"A process in a timesharing system is allocated a fixed amount of CPU time during each time slice. If the process requires more than one time slice to complete its current task, it will be preempted and resume execution at the beginning of the next time slice. What type of scheduling algorithm is this example illustrating?\",\\n  \"ideal_answer\": \"Round Robin Scheduling\",\\n  \"rubric\": [\\n    {\\n      \"name\": \"Identification of scheduling algorithm type\",\\n      \"criteria\": \"The answer correctly identifies the type of scheduling algorithm (e.g., Round Robin, First-Come-First-Served, Priority Scheduling).\",\\n      \"weightage\": 3\\n    },\\n    {\\n      \"name\": \"Understanding of time slicing and preemption\",\\n      \"criteria\": \"The answer demonstrates an understanding of how time slices are allocated and preempted in the context of Round Robin Scheduling.\",\\n      \"weightage\": 2\\n    },\\n    {\\n      \"name\": \"Relevance to operating system concepts\",\\n      \"criteria\": \"The answer shows awareness of how scheduling algorithms like Round Robin Scheduling are implemented in operating systems, particularly in relation to process management and CPU allocation.\",\\n      \"weightage\": 1\\n    }\\n  ]\\n}',\n",
       " '{\\n  \"question\": \"Consider a paging system with a page size of 4 KB and a physical memory size of 64 MB (65,536 pages). If the operating system uses a Least Recently Used (LRU) replacement policy, what is the minimum number of page faults that will occur when accessing the following sequence of page references: page 1, page 2, page 3, ..., page 65,536?\",\\n  \"ideal_answer\": \"0\",\\n  \"rubric\": [\\n    {\\n      \"criteria\": \"Understanding of LRU replacement policy\",\\n      \"description\": \"The candidate should demonstrate a clear understanding of the LRU policy and its implications on page faults.\",\\n      \"marks\": \"2\"\\n    },\\n    {\\n      \"criteria\": \"Analysis of access sequence\",\\n      \"description\": \"The candidate should analyze the given sequence of page references to determine the minimum number of page faults that will occur.\",\\n      \"marks\": \"3\"\\n    },\\n    {\\n      \"criteria\": \"Calculation and justification of result\",\\n      \"description\": \"The candidate should clearly calculate and justify their answer, demonstrating an understanding of how the LRU policy minimizes page faults in this specific scenario.\",\\n      \"marks\": \"4\"\\n    }\\n  ]\\n}',\n",
       " '{\\n  \"question\": \"Consider a system with two processes, P1 and P2, competing for access to a shared resource. Both processes are implemented as preemptive priority scheduling algorithms using the Rate Monotonic Scheduling (RMS) algorithm. Process P1 has a higher priority than process P2. The system is experiencing starvation due to the continuous preemption of process P2 by process P1. Explain why this scenario might occur and discuss possible solutions.\",\\n  \"ideal_answer\": \"The scenario occurs because RMS prioritizes tasks based on their periods (i.e., the time between successive executions). In this case, if process P1\\'s period is shorter than process P2\\'s, P1 will preempt P2 continuously. To mitigate this issue, one solution could be to assign a longer period to process P2 or to implement a mechanism that ensures fairness in task execution (e.g., through the use of time slices).\",\\n  \"rubric\": [\\n    {\\n      \"criteria\": \"Clear explanation of RMS algorithm and its potential pitfalls.\",\\n      \"marks\": 20,\\n      \"description\": \"Explanation should include a concise description of how RMS prioritizes tasks based on their periods.\"\\n    },\\n    {\\n      \"criteria\": \"Analysis of the scenario and identification of starvation as an issue.\",\\n      \"marks\": 30,\\n      \"description\": \"The response should clearly state why the continuous preemption is causing starvation in process P2.\"\\n    },\\n    {\\n      \"criteria\": \"Suggested solutions for mitigating starvation.\",\\n      \"marks\": 40,\\n      \"description\": \"Response should propose at least one feasible solution to address the starvation issue, possibly including a brief justification or reasoning.\"\\n    }\\n  ]\\n}',\n",
       " '{\\n  \"question\": \"Consider a system with two processes, A and B, both competing for access to a shared resource. Process A has a priority of 2 and process B has a priority of 1. The operating system uses a Round-Robin scheduling algorithm with a time quantum of 5 time units. If the current time is at the start of a new cycle, what is the maximum number of time units that will be allocated to process A before process B gets a chance to run?\",\\n  \"ideal_answer\": \"15\",\\n  \"rubric\": [\\n    {\\n      \"id\": \"1\",\\n      \"description\": \"The answer correctly identifies the scheduling algorithm used by the operating system.\",\\n      \"weightage\": \"20\"\\n    },\\n    {\\n      \"id\": \"2\",\\n      \"description\": \"The answer accurately determines the maximum number of time units that will be allocated to process A before process B gets a chance to run, taking into account the Round-Robin scheduling algorithm and the given time quantum.\",\\n      \"weightage\": \"60\"\\n    },\\n    {\\n      \"id\": \"3\",\\n      \"description\": \"The answer provides a clear explanation of its reasoning for determining the maximum number of time units allocated to process A, demonstrating an understanding of the underlying principles of Round-Robin scheduling.\",\\n      \"weightage\": \"20\"\\n    }\\n  ]\\n}']"
      ]
     },
     "execution_count": 29,
     "metadata": {},
     "output_type": "execute_result"
    }
   ],
   "source": [
    "list"
   ]
  },
  {
   "cell_type": "code",
   "execution_count": null,
   "id": "a13d9c2f",
   "metadata": {},
   "outputs": [],
   "source": []
  }
 ],
 "metadata": {
  "kernelspec": {
   "display_name": "Python 3",
   "language": "python",
   "name": "python3"
  },
  "language_info": {
   "codemirror_mode": {
    "name": "ipython",
    "version": 3
   },
   "file_extension": ".py",
   "mimetype": "text/x-python",
   "name": "python",
   "nbconvert_exporter": "python",
   "pygments_lexer": "ipython3",
   "version": "3.12.6"
  }
 },
 "nbformat": 4,
 "nbformat_minor": 5
}
